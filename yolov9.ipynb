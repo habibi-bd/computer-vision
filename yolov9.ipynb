{
  "nbformat": 4,
  "nbformat_minor": 0,
  "metadata": {
    "colab": {
      "private_outputs": true,
      "provenance": [],
      "gpuType": "T4",
      "authorship_tag": "ABX9TyMulNF8K6enKVV8RDnn4A9Z",
      "include_colab_link": true
    },
    "kernelspec": {
      "name": "python3",
      "display_name": "Python 3"
    },
    "language_info": {
      "name": "python"
    },
    "accelerator": "GPU"
  },
  "cells": [
    {
      "cell_type": "markdown",
      "metadata": {
        "id": "view-in-github",
        "colab_type": "text"
      },
      "source": [
        "<a href=\"https://colab.research.google.com/github/habibi-bd/computer-vision/blob/main/yolov9.ipynb\" target=\"_parent\"><img src=\"https://colab.research.google.com/assets/colab-badge.svg\" alt=\"Open In Colab\"/></a>"
      ]
    },
    {
      "cell_type": "code",
      "source": [
        "!pip install --upgrade ultralytics\n"
      ],
      "metadata": {
        "collapsed": true,
        "id": "X_1-XNpLoBhc"
      },
      "execution_count": null,
      "outputs": []
    },
    {
      "cell_type": "code",
      "execution_count": null,
      "metadata": {
        "id": "FXPpyTepm19h"
      },
      "outputs": [],
      "source": [
        "# prompt: upzip\n",
        "\n",
        "import zipfile\n",
        "import os\n",
        "\n",
        "# Assuming the zip file is named 'your_zip_file.zip' and is in the current directory\n",
        "zip_file_path = '/content/alpaca_project.v2i.yolov9.zip'\n",
        "\n",
        "# Define the directory where you want to extract the files\n",
        "extract_dir = '/content/extracted_files'\n",
        "os.makedirs(extract_dir, exist_ok=True) # Create the directory if it doesn't exist\n",
        "\n",
        "\n",
        "# Unzip the file\n",
        "with zipfile.ZipFile(zip_file_path, 'r') as zip_ref:\n",
        "    zip_ref.extractall(extract_dir)"
      ]
    },
    {
      "cell_type": "code",
      "source": [
        "# prompt: lets try to train the yolov9 using the dataset i uploaded\n",
        "\n",
        "# Clone the YOLOv9 repository\n",
        "!git clone https://github.com/WongKinYiu/yolov9.git\n",
        "%cd yolov9\n",
        "\n",
        "# Install the required dependencies\n",
        "!pip install -r requirements.txt -q\n",
        "\n",
        "# Download pre-trained weights (e.g., yolov9-e.pt)\n",
        "!wget https://github.com/WongKinYiu/yolov9/releases/download/v0.1/yolov9-e.pt\n",
        "\n",
        "# Define the path to your data.yaml file (assuming it's in the extracted directory)\n",
        "data_yaml_path = '/content/extracted_files/data.yaml'\n",
        "\n",
        "# Define the path to your desired output directory\n",
        "output_dir = '/content/yolov9_training_output'\n",
        "os.makedirs(output_dir, exist_ok=True)\n",
        "\n",
        "\n",
        "!python train.py --batch 16 --epochs 100 --data {data_yaml_path} --cfg models/detect/yolov9-e.yaml --weights yolov9-e.pt --name yolov9_custom --cache\n",
        "\n",
        "\n"
      ],
      "metadata": {
        "id": "b_pwbFxTnk-z"
      },
      "execution_count": null,
      "outputs": []
    },
    {
      "cell_type": "code",
      "source": [
        "from ultralytics import YOLO\n",
        "\n",
        "model = YOLO(\"yolov9c.pt\")\n",
        "\n",
        "model.train(\n",
        "    data=\"/content/extracted_files/data.yaml\",\n",
        "    epochs=100,\n",
        "    imgsz=640,\n",
        "    batch=16\n",
        ")\n"
      ],
      "metadata": {
        "collapsed": true,
        "id": "o00ueS32qfUS"
      },
      "execution_count": null,
      "outputs": []
    },
    {
      "cell_type": "code",
      "source": [
        "# Your model is saved automatically here:\n",
        "\"/content/sample_data\"\n",
        "\n",
        "# Rename and move it anywhere you want:\n",
        "import shutil\n",
        "shutil.copy(\"runs/detect/train/weights/best.pt\", \"/content/sample_data\")\n"
      ],
      "metadata": {
        "id": "vdzAk8E5tEzb"
      },
      "execution_count": null,
      "outputs": []
    },
    {
      "cell_type": "code",
      "source": [
        "import shutil\n",
        "\n",
        "\n",
        "import os\n",
        "\n",
        "\n",
        "with open(\"/content/extracted_files/data.yaml\") as f:\n",
        "    print(f.read())\n"
      ],
      "metadata": {
        "id": "HfBAffe3uILr"
      },
      "execution_count": null,
      "outputs": []
    },
    {
      "cell_type": "code",
      "source": [
        "metrics = model.val()\n",
        "\n",
        "# Print the key performance metrics\n",
        "print(\"📊 Accuracy Results:\")\n",
        "print(\"mAP@0.5     :\", metrics.box.map50)\n",
        "print(\"mAP@0.5:0.95:\", metrics.box.map)\n",
        "\n",
        "      # mean recall, float\n"
      ],
      "metadata": {
        "id": "et7Wc_DbvZjj"
      },
      "execution_count": null,
      "outputs": []
    },
    {
      "cell_type": "code",
      "source": [
        "from IPython.display import Image\n",
        "Image(filename='runs/detect/train/results.png')\n"
      ],
      "metadata": {
        "id": "xN_TOgY_v5jW"
      },
      "execution_count": null,
      "outputs": []
    },
    {
      "cell_type": "code",
      "source": [
        "results = model.predict(source='/content/Alpaca_(31562329701).jpg', conf=0.25)\n"
      ],
      "metadata": {
        "id": "KBazMRaTyFop"
      },
      "execution_count": null,
      "outputs": []
    },
    {
      "cell_type": "code",
      "source": [
        "import cv2\n",
        "import matplotlib.pyplot as plt\n",
        "\n",
        "# Get the annotated image (BGR format)\n",
        "annotated_img = results[0].plot()\n",
        "\n",
        "# Convert BGR to RGB for matplotlib\n",
        "annotated_img = cv2.cvtColor(annotated_img, cv2.COLOR_BGR2RGB)\n",
        "\n",
        "# Show image\n",
        "plt.figure(figsize=(10, 8))\n",
        "plt.imshow(annotated_img)\n",
        "plt.axis('off')\n",
        "plt.title('YOLOv9 Prediction')\n",
        "plt.show()\n"
      ],
      "metadata": {
        "id": "bIQGwmIDyblR"
      },
      "execution_count": null,
      "outputs": []
    },
    {
      "cell_type": "code",
      "source": [
        "results=model.train(\n",
        "    data=\"/content/extracted_files/data.yaml\",\n",
        "    epochs=100,\n",
        "    imgsz=640,\n",
        "    batch=16,\n",
        "    augment=True,     # Enable built-in augmentations\n",
        "    mosaic=True,      # Enable mosaic augmentation (combining 4 images)\n",
        "    mixup=True,       # Enable mixup augmentation (blend images)\n",
        "    hsv_h=0.015,      # Hue augmentation range\n",
        "    hsv_s=0.7,        # Saturation augmentation range\n",
        "    hsv_v=0.4,        # Value augmentation range\n",
        "    flipud=0.0,       # Vertical flip probability (0 means off)\n",
        "    fliplr=0.5,       # Horizontal flip probability (default 0.5)\n",
        "    degrees=0.0,      # Random rotation degrees\n",
        "    translate=0.1,    # Random translation fraction\n",
        "    scale=0.5,        # Random scale fraction\n",
        "    shear=0.0         # Shear angle degrees\n",
        ")\n"
      ],
      "metadata": {
        "id": "yTVxctEdzWVq"
      },
      "execution_count": null,
      "outputs": []
    },
    {
      "cell_type": "code",
      "source": [
        "predictions = model.predict('/content/Alpaca_(31562329701).jpg', conf=0.25)"
      ],
      "metadata": {
        "id": "cfOqxgWb4531"
      },
      "execution_count": null,
      "outputs": []
    },
    {
      "cell_type": "code",
      "metadata": {
        "id": "d9ad0f52"
      },
      "source": [
        "import cv2\n",
        "import matplotlib.pyplot as plt\n",
        "from ultralytics.utils.plotting import Annotator\n",
        "\n",
        "\n",
        "annotated_img = predictions[0].plot()  # returns image with boxes drawn (BGR)\n",
        "\n",
        "# Convert BGR to RGB for correct color display in matplotlib\n",
        "annotated_img = cv2.cvtColor(annotated_img, cv2.COLOR_BGR2RGB)\n",
        "\n",
        "# Plot the image\n",
        "plt.figure(figsize=(10, 8))\n",
        "plt.imshow(annotated_img)\n",
        "plt.axis('off')\n",
        "plt.title('YOLOv9 Prediction with Confidence')\n",
        "plt.show()"
      ],
      "execution_count": null,
      "outputs": []
    }
  ]
}